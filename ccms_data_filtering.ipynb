{
 "cells": [
  {
   "cell_type": "markdown",
   "metadata": {},
   "source": [
    "## Importing Libraries"
   ]
  },
  {
   "cell_type": "code",
   "execution_count": 1,
   "metadata": {},
   "outputs": [],
   "source": [
    "import pandas as pd\n",
    "import random as rd"
   ]
  },
  {
   "cell_type": "markdown",
   "metadata": {},
   "source": [
    "## Loading actual relatable data"
   ]
  },
  {
   "cell_type": "code",
   "execution_count": 2,
   "metadata": {},
   "outputs": [],
   "source": [
    "data = pd.read_csv('final.csv')"
   ]
  },
  {
   "cell_type": "code",
   "execution_count": 3,
   "metadata": {},
   "outputs": [
    {
     "data": {
      "text/html": [
       "<div>\n",
       "<style scoped>\n",
       "    .dataframe tbody tr th:only-of-type {\n",
       "        vertical-align: middle;\n",
       "    }\n",
       "\n",
       "    .dataframe tbody tr th {\n",
       "        vertical-align: top;\n",
       "    }\n",
       "\n",
       "    .dataframe thead th {\n",
       "        text-align: right;\n",
       "    }\n",
       "</style>\n",
       "<table border=\"1\" class=\"dataframe\">\n",
       "  <thead>\n",
       "    <tr style=\"text-align: right;\">\n",
       "      <th></th>\n",
       "      <th>CCMS ID</th>\n",
       "      <th>Active Power kW</th>\n",
       "      <th>Apparent Power kVA</th>\n",
       "      <th>Current R (A)</th>\n",
       "      <th>Current Y (A)</th>\n",
       "      <th>Current B (A)</th>\n",
       "      <th>Voltage R (V)</th>\n",
       "      <th>Voltage Y (V)</th>\n",
       "      <th>Voltage B (V)</th>\n",
       "      <th>Total PF</th>\n",
       "      <th>MD kVA</th>\n",
       "      <th>MD kW</th>\n",
       "      <th>R Phase kW</th>\n",
       "      <th>Y Phase kW</th>\n",
       "      <th>B Phase kW</th>\n",
       "    </tr>\n",
       "  </thead>\n",
       "  <tbody>\n",
       "    <tr>\n",
       "      <th>438</th>\n",
       "      <td>SMR03-0219-0252</td>\n",
       "      <td>4.56</td>\n",
       "      <td>4.59</td>\n",
       "      <td>10.20</td>\n",
       "      <td>1.27</td>\n",
       "      <td>6.83</td>\n",
       "      <td>250.03</td>\n",
       "      <td>251.78</td>\n",
       "      <td>252.02</td>\n",
       "      <td>0.992  Ld</td>\n",
       "      <td>5.35</td>\n",
       "      <td>5.32</td>\n",
       "      <td>2.54</td>\n",
       "      <td>0.31</td>\n",
       "      <td>1.70</td>\n",
       "    </tr>\n",
       "    <tr>\n",
       "      <th>631</th>\n",
       "      <td>SMR03-0219-0252</td>\n",
       "      <td>4.69</td>\n",
       "      <td>4.71</td>\n",
       "      <td>10.88</td>\n",
       "      <td>1.36</td>\n",
       "      <td>7.71</td>\n",
       "      <td>236.61</td>\n",
       "      <td>236.57</td>\n",
       "      <td>235.90</td>\n",
       "      <td>0.994  Ld</td>\n",
       "      <td>5.35</td>\n",
       "      <td>5.32</td>\n",
       "      <td>2.56</td>\n",
       "      <td>0.31</td>\n",
       "      <td>1.81</td>\n",
       "    </tr>\n",
       "    <tr>\n",
       "      <th>167</th>\n",
       "      <td>SMR03-0219-0252</td>\n",
       "      <td>4.33</td>\n",
       "      <td>4.36</td>\n",
       "      <td>10.33</td>\n",
       "      <td>1.28</td>\n",
       "      <td>6.04</td>\n",
       "      <td>246.36</td>\n",
       "      <td>248.32</td>\n",
       "      <td>248.35</td>\n",
       "      <td>0.992  Ld</td>\n",
       "      <td>5.35</td>\n",
       "      <td>5.32</td>\n",
       "      <td>2.54</td>\n",
       "      <td>0.31</td>\n",
       "      <td>1.47</td>\n",
       "    </tr>\n",
       "    <tr>\n",
       "      <th>326</th>\n",
       "      <td>SMR03-0219-0252</td>\n",
       "      <td>4.60</td>\n",
       "      <td>4.63</td>\n",
       "      <td>10.91</td>\n",
       "      <td>1.30</td>\n",
       "      <td>6.97</td>\n",
       "      <td>240.46</td>\n",
       "      <td>242.46</td>\n",
       "      <td>242.44</td>\n",
       "      <td>0.992  Ld</td>\n",
       "      <td>5.35</td>\n",
       "      <td>5.32</td>\n",
       "      <td>2.62</td>\n",
       "      <td>0.31</td>\n",
       "      <td>1.67</td>\n",
       "    </tr>\n",
       "    <tr>\n",
       "      <th>390</th>\n",
       "      <td>SMR03-0219-0252</td>\n",
       "      <td>4.58</td>\n",
       "      <td>4.61</td>\n",
       "      <td>10.19</td>\n",
       "      <td>1.25</td>\n",
       "      <td>6.73</td>\n",
       "      <td>253.09</td>\n",
       "      <td>254.92</td>\n",
       "      <td>255.37</td>\n",
       "      <td>0.992  Ld</td>\n",
       "      <td>5.35</td>\n",
       "      <td>5.32</td>\n",
       "      <td>2.56</td>\n",
       "      <td>0.31</td>\n",
       "      <td>1.70</td>\n",
       "    </tr>\n",
       "  </tbody>\n",
       "</table>\n",
       "</div>"
      ],
      "text/plain": [
       "             CCMS ID  Active Power kW  Apparent Power kVA  Current R (A)  \\\n",
       "438  SMR03-0219-0252             4.56                4.59          10.20   \n",
       "631  SMR03-0219-0252             4.69                4.71          10.88   \n",
       "167  SMR03-0219-0252             4.33                4.36          10.33   \n",
       "326  SMR03-0219-0252             4.60                4.63          10.91   \n",
       "390  SMR03-0219-0252             4.58                4.61          10.19   \n",
       "\n",
       "     Current Y (A)  Current B (A)  Voltage R (V)  Voltage Y (V)  \\\n",
       "438           1.27           6.83         250.03         251.78   \n",
       "631           1.36           7.71         236.61         236.57   \n",
       "167           1.28           6.04         246.36         248.32   \n",
       "326           1.30           6.97         240.46         242.46   \n",
       "390           1.25           6.73         253.09         254.92   \n",
       "\n",
       "     Voltage B (V)   Total PF  MD kVA  MD kW  R Phase kW  Y Phase kW  \\\n",
       "438         252.02  0.992  Ld    5.35   5.32        2.54        0.31   \n",
       "631         235.90  0.994  Ld    5.35   5.32        2.56        0.31   \n",
       "167         248.35  0.992  Ld    5.35   5.32        2.54        0.31   \n",
       "326         242.44  0.992  Ld    5.35   5.32        2.62        0.31   \n",
       "390         255.37  0.992  Ld    5.35   5.32        2.56        0.31   \n",
       "\n",
       "     B Phase kW  \n",
       "438        1.70  \n",
       "631        1.81  \n",
       "167        1.47  \n",
       "326        1.67  \n",
       "390        1.70  "
      ]
     },
     "execution_count": 3,
     "metadata": {},
     "output_type": "execute_result"
    }
   ],
   "source": [
    "data.sample(5)"
   ]
  },
  {
   "cell_type": "markdown",
   "metadata": {},
   "source": [
    "## Slicing to get current, voltage and total Power Factor which may help to predict fault location"
   ]
  },
  {
   "cell_type": "code",
   "execution_count": 4,
   "metadata": {},
   "outputs": [],
   "source": [
    "data = data.iloc[:900, 3:10]"
   ]
  },
  {
   "cell_type": "code",
   "execution_count": 6,
   "metadata": {},
   "outputs": [
    {
     "data": {
      "text/html": [
       "<div>\n",
       "<style scoped>\n",
       "    .dataframe tbody tr th:only-of-type {\n",
       "        vertical-align: middle;\n",
       "    }\n",
       "\n",
       "    .dataframe tbody tr th {\n",
       "        vertical-align: top;\n",
       "    }\n",
       "\n",
       "    .dataframe thead th {\n",
       "        text-align: right;\n",
       "    }\n",
       "</style>\n",
       "<table border=\"1\" class=\"dataframe\">\n",
       "  <thead>\n",
       "    <tr style=\"text-align: right;\">\n",
       "      <th></th>\n",
       "      <th>Current R (A)</th>\n",
       "      <th>Current Y (A)</th>\n",
       "      <th>Current B (A)</th>\n",
       "      <th>Voltage R (V)</th>\n",
       "      <th>Voltage Y (V)</th>\n",
       "      <th>Voltage B (V)</th>\n",
       "      <th>Total PF</th>\n",
       "    </tr>\n",
       "  </thead>\n",
       "  <tbody>\n",
       "    <tr>\n",
       "      <th>779</th>\n",
       "      <td>10.82</td>\n",
       "      <td>1.35</td>\n",
       "      <td>6.83</td>\n",
       "      <td>236.53</td>\n",
       "      <td>236.62</td>\n",
       "      <td>235.64</td>\n",
       "      <td>0.993  Ld</td>\n",
       "    </tr>\n",
       "    <tr>\n",
       "      <th>683</th>\n",
       "      <td>10.50</td>\n",
       "      <td>1.35</td>\n",
       "      <td>7.68</td>\n",
       "      <td>237.36</td>\n",
       "      <td>237.48</td>\n",
       "      <td>236.34</td>\n",
       "      <td>0.993  Ld</td>\n",
       "    </tr>\n",
       "    <tr>\n",
       "      <th>160</th>\n",
       "      <td>9.61</td>\n",
       "      <td>1.27</td>\n",
       "      <td>6.00</td>\n",
       "      <td>248.21</td>\n",
       "      <td>249.72</td>\n",
       "      <td>250.08</td>\n",
       "      <td>0.99  Ld</td>\n",
       "    </tr>\n",
       "    <tr>\n",
       "      <th>138</th>\n",
       "      <td>9.68</td>\n",
       "      <td>5.23</td>\n",
       "      <td>5.62</td>\n",
       "      <td>246.36</td>\n",
       "      <td>247.51</td>\n",
       "      <td>248.29</td>\n",
       "      <td>0.989  Ld</td>\n",
       "    </tr>\n",
       "    <tr>\n",
       "      <th>592</th>\n",
       "      <td>9.58</td>\n",
       "      <td>1.30</td>\n",
       "      <td>7.47</td>\n",
       "      <td>250.19</td>\n",
       "      <td>249.99</td>\n",
       "      <td>248.96</td>\n",
       "      <td>0.992  Ld</td>\n",
       "    </tr>\n",
       "  </tbody>\n",
       "</table>\n",
       "</div>"
      ],
      "text/plain": [
       "     Current R (A)  Current Y (A)  Current B (A)  Voltage R (V)  \\\n",
       "779          10.82           1.35           6.83         236.53   \n",
       "683          10.50           1.35           7.68         237.36   \n",
       "160           9.61           1.27           6.00         248.21   \n",
       "138           9.68           5.23           5.62         246.36   \n",
       "592           9.58           1.30           7.47         250.19   \n",
       "\n",
       "     Voltage Y (V)  Voltage B (V)   Total PF  \n",
       "779         236.62         235.64  0.993  Ld  \n",
       "683         237.48         236.34  0.993  Ld  \n",
       "160         249.72         250.08   0.99  Ld  \n",
       "138         247.51         248.29  0.989  Ld  \n",
       "592         249.99         248.96  0.992  Ld  "
      ]
     },
     "execution_count": 6,
     "metadata": {},
     "output_type": "execute_result"
    }
   ],
   "source": [
    "data.sample(5)"
   ]
  },
  {
   "cell_type": "markdown",
   "metadata": {},
   "source": [
    "## Creating temporary fault location data as 1st feature"
   ]
  },
  {
   "cell_type": "code",
   "execution_count": 7,
   "metadata": {},
   "outputs": [],
   "source": [
    "dist = [i*30 for i in range(1,31)]*30"
   ]
  },
  {
   "cell_type": "code",
   "execution_count": 8,
   "metadata": {},
   "outputs": [],
   "source": [
    "dist.sort()"
   ]
  },
  {
   "cell_type": "code",
   "execution_count": 9,
   "metadata": {},
   "outputs": [],
   "source": [
    "dist = dist*7"
   ]
  },
  {
   "cell_type": "code",
   "execution_count": 10,
   "metadata": {},
   "outputs": [],
   "source": [
    "distance = pd.DataFrame(dist, columns=['distance'])"
   ]
  },
  {
   "cell_type": "code",
   "execution_count": 11,
   "metadata": {},
   "outputs": [
    {
     "data": {
      "text/plain": [
       "6300"
      ]
     },
     "execution_count": 11,
     "metadata": {},
     "output_type": "execute_result"
    }
   ],
   "source": [
    "len(dist)"
   ]
  },
  {
   "cell_type": "markdown",
   "metadata": {},
   "source": [
    "## Creating a 2nd feature for wattage of different types of lamp"
   ]
  },
  {
   "cell_type": "code",
   "execution_count": 24,
   "metadata": {},
   "outputs": [],
   "source": [
    "watt = [18, 24, 45, 70, 110, 140, 190]*1672"
   ]
  },
  {
   "cell_type": "code",
   "execution_count": 25,
   "metadata": {},
   "outputs": [],
   "source": [
    "watt.sort()"
   ]
  },
  {
   "cell_type": "code",
   "execution_count": 26,
   "metadata": {},
   "outputs": [],
   "source": [
    "watt = pd.DataFrame(watt[:11700], columns=['watt'])"
   ]
  },
  {
   "cell_type": "code",
   "execution_count": 27,
   "metadata": {},
   "outputs": [
    {
     "data": {
      "text/plain": [
       "11700"
      ]
     },
     "execution_count": 27,
     "metadata": {},
     "output_type": "execute_result"
    }
   ],
   "source": [
    "len(watt)"
   ]
  },
  {
   "cell_type": "markdown",
   "metadata": {},
   "source": [
    "## Creating 3rd feature as total power factor"
   ]
  },
  {
   "cell_type": "code",
   "execution_count": 16,
   "metadata": {},
   "outputs": [],
   "source": [
    "ind =0\n",
    "temp=[]\n",
    "for i in data.iloc[:, -1]:\n",
    "    x =float(i[:5])\n",
    "    temp.append(float(\"{0:.3f}\".format(x)))\n",
    "    ind  += 1\n",
    "    "
   ]
  },
  {
   "cell_type": "code",
   "execution_count": 17,
   "metadata": {},
   "outputs": [],
   "source": [
    "pf = temp*13"
   ]
  },
  {
   "cell_type": "code",
   "execution_count": 18,
   "metadata": {},
   "outputs": [],
   "source": [
    "pf = pd.DataFrame(pf, columns=['PF'])"
   ]
  },
  {
   "cell_type": "code",
   "execution_count": 19,
   "metadata": {},
   "outputs": [
    {
     "data": {
      "text/plain": [
       "11700"
      ]
     },
     "execution_count": 19,
     "metadata": {},
     "output_type": "execute_result"
    }
   ],
   "source": [
    "len(pf)"
   ]
  },
  {
   "cell_type": "markdown",
   "metadata": {},
   "source": [
    "## Creating other features of voltage and current "
   ]
  },
  {
   "cell_type": "code",
   "execution_count": 23,
   "metadata": {},
   "outputs": [],
   "source": [
    "Vr = []\n",
    "Vy = []\n",
    "Vb = []\n",
    "Ir = []\n",
    "Iy = []\n",
    "Ib = []\n",
    "for ind in range(7):\n",
    "    i = watt[ind]/100\n",
    "    v = watt[ind]/10\n",
    "    \n",
    "    for j in range(900):\n",
    "        Ir.append(data.iloc[j, 0]+i)\n",
    "        Iy.append(data.iloc[j, 1]+i)\n",
    "        Ib.append(data.iloc[j, 2]+i)\n",
    "        \n",
    "        Vr.append(data.iloc[j, 3]+v)\n",
    "        Vy.append(data.iloc[j, 4]+v)\n",
    "        Vb.append(data.iloc[j, 5]+v)       \n",
    "        "
   ]
  },
  {
   "cell_type": "code",
   "execution_count": 28,
   "metadata": {},
   "outputs": [
    {
     "data": {
      "text/plain": [
       "6300"
      ]
     },
     "execution_count": 28,
     "metadata": {},
     "output_type": "execute_result"
    }
   ],
   "source": [
    "len(Vr)"
   ]
  },
  {
   "cell_type": "markdown",
   "metadata": {},
   "source": [
    "## Converting this into dataframe"
   ]
  },
  {
   "cell_type": "code",
   "execution_count": 29,
   "metadata": {},
   "outputs": [],
   "source": [
    "Ir = pd.DataFrame(Ir, columns=['Ir'])\n",
    "Iy = pd.DataFrame(Iy, columns=['Iy'])\n",
    "Ib = pd.DataFrame(Ib, columns=['Ib'])"
   ]
  },
  {
   "cell_type": "code",
   "execution_count": 30,
   "metadata": {},
   "outputs": [],
   "source": [
    "Vr = pd.DataFrame(Vr, columns=['Vr'])\n",
    "Vy = pd.DataFrame(Vy, columns=['Vy'])\n",
    "Vb = pd.DataFrame(Vb, columns=['Vb'])"
   ]
  },
  {
   "cell_type": "markdown",
   "metadata": {},
   "source": [
    "## Final concatination"
   ]
  },
  {
   "cell_type": "code",
   "execution_count": 31,
   "metadata": {},
   "outputs": [],
   "source": [
    "ccms_data = pd.concat([watt,Ir,Iy,Ib,Vr,Vy,Vb,pf,distance], axis = 1)"
   ]
  },
  {
   "cell_type": "code",
   "execution_count": 32,
   "metadata": {},
   "outputs": [
    {
     "data": {
      "text/html": [
       "<div>\n",
       "<style scoped>\n",
       "    .dataframe tbody tr th:only-of-type {\n",
       "        vertical-align: middle;\n",
       "    }\n",
       "\n",
       "    .dataframe tbody tr th {\n",
       "        vertical-align: top;\n",
       "    }\n",
       "\n",
       "    .dataframe thead th {\n",
       "        text-align: right;\n",
       "    }\n",
       "</style>\n",
       "<table border=\"1\" class=\"dataframe\">\n",
       "  <thead>\n",
       "    <tr style=\"text-align: right;\">\n",
       "      <th></th>\n",
       "      <th>watt</th>\n",
       "      <th>Ir</th>\n",
       "      <th>Iy</th>\n",
       "      <th>Ib</th>\n",
       "      <th>Vr</th>\n",
       "      <th>Vy</th>\n",
       "      <th>Vb</th>\n",
       "      <th>PF</th>\n",
       "      <th>distance</th>\n",
       "    </tr>\n",
       "  </thead>\n",
       "  <tbody>\n",
       "    <tr>\n",
       "      <th>0</th>\n",
       "      <td>18</td>\n",
       "      <td>10.84</td>\n",
       "      <td>5.65</td>\n",
       "      <td>6.03</td>\n",
       "      <td>235.28</td>\n",
       "      <td>236.37</td>\n",
       "      <td>237.20</td>\n",
       "      <td>0.992</td>\n",
       "      <td>30.0</td>\n",
       "    </tr>\n",
       "    <tr>\n",
       "      <th>1</th>\n",
       "      <td>18</td>\n",
       "      <td>10.83</td>\n",
       "      <td>5.66</td>\n",
       "      <td>6.01</td>\n",
       "      <td>235.36</td>\n",
       "      <td>236.14</td>\n",
       "      <td>237.25</td>\n",
       "      <td>0.992</td>\n",
       "      <td>30.0</td>\n",
       "    </tr>\n",
       "    <tr>\n",
       "      <th>2</th>\n",
       "      <td>18</td>\n",
       "      <td>10.92</td>\n",
       "      <td>5.70</td>\n",
       "      <td>6.07</td>\n",
       "      <td>233.54</td>\n",
       "      <td>234.52</td>\n",
       "      <td>235.52</td>\n",
       "      <td>0.992</td>\n",
       "      <td>30.0</td>\n",
       "    </tr>\n",
       "    <tr>\n",
       "      <th>3</th>\n",
       "      <td>18</td>\n",
       "      <td>10.91</td>\n",
       "      <td>5.71</td>\n",
       "      <td>6.08</td>\n",
       "      <td>233.81</td>\n",
       "      <td>235.02</td>\n",
       "      <td>235.94</td>\n",
       "      <td>0.992</td>\n",
       "      <td>30.0</td>\n",
       "    </tr>\n",
       "    <tr>\n",
       "      <th>4</th>\n",
       "      <td>18</td>\n",
       "      <td>10.97</td>\n",
       "      <td>5.73</td>\n",
       "      <td>6.10</td>\n",
       "      <td>234.97</td>\n",
       "      <td>236.07</td>\n",
       "      <td>236.96</td>\n",
       "      <td>0.989</td>\n",
       "      <td>30.0</td>\n",
       "    </tr>\n",
       "  </tbody>\n",
       "</table>\n",
       "</div>"
      ],
      "text/plain": [
       "   watt     Ir    Iy    Ib      Vr      Vy      Vb     PF  distance\n",
       "0    18  10.84  5.65  6.03  235.28  236.37  237.20  0.992      30.0\n",
       "1    18  10.83  5.66  6.01  235.36  236.14  237.25  0.992      30.0\n",
       "2    18  10.92  5.70  6.07  233.54  234.52  235.52  0.992      30.0\n",
       "3    18  10.91  5.71  6.08  233.81  235.02  235.94  0.992      30.0\n",
       "4    18  10.97  5.73  6.10  234.97  236.07  236.96  0.989      30.0"
      ]
     },
     "execution_count": 32,
     "metadata": {},
     "output_type": "execute_result"
    }
   ],
   "source": [
    "ccms_data.head()"
   ]
  },
  {
   "cell_type": "markdown",
   "metadata": {},
   "source": [
    "## Downloading as a csv file"
   ]
  },
  {
   "cell_type": "code",
   "execution_count": null,
   "metadata": {},
   "outputs": [],
   "source": [
    "ccms_data.to_csv('ccms_data.csv')"
   ]
  }
 ],
 "metadata": {
  "kernelspec": {
   "display_name": "Python 3",
   "language": "python",
   "name": "python3"
  },
  "language_info": {
   "codemirror_mode": {
    "name": "ipython",
    "version": 3
   },
   "file_extension": ".py",
   "mimetype": "text/x-python",
   "name": "python",
   "nbconvert_exporter": "python",
   "pygments_lexer": "ipython3",
   "version": "3.7.0"
  }
 },
 "nbformat": 4,
 "nbformat_minor": 2
}
